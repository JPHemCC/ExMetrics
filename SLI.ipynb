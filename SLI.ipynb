{
  "metadata": {
    "kernelspec": {
      "name": "",
      "display_name": ""
    },
    "language_info": {
      "name": ""
    }
  },
  "nbformat_minor": 5,
  "nbformat": 4,
  "cells": [
    {
      "id": "717eec33-3415-4568-bbe4-eda072a01384",
      "cell_type": "markdown",
      "source": "\\begin{equation*}\n\\frac{(\\log_{10}{\\large e}^{\\small\\frac{\\sqrt{(NHD)(NHV)}}{D_{S}}})NHV}{NHD}\n\\end{equation*}\n",
      "metadata": {}
    }
  ]
}